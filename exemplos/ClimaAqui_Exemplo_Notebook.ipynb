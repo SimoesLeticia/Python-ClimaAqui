{
 "cells": [
  {
   "cell_type": "markdown",
   "metadata": {},
   "source": [
    "## Importação"
   ]
  },
  {
   "cell_type": "code",
   "execution_count": 1,
   "metadata": {},
   "outputs": [],
   "source": [
    "import sys\n",
    "sys.path.append('../fontes') \n",
    "import ClimaAqui_Funcoes as funcoes"
   ]
  },
  {
   "cell_type": "markdown",
   "metadata": {},
   "source": [
    "## Exemplo - Sucesso na requisição para Web Service"
   ]
  },
  {
   "cell_type": "code",
   "execution_count": 2,
   "metadata": {},
   "outputs": [
    {
     "name": "stdout",
     "output_type": "stream",
     "text": [
      "Previsão para Campo Grande, Mato Grosso do Sul.\n",
      "____________________________________________________________\n",
      "Hoje, Quinta-feira, 15/02/2024\n",
      "Temperatura : ⬇️ 22.9ºC ⬆️ 32.8ºC\n",
      "Clima       : Predominantemente nublado, com tempestades\n",
      "Chuva       : 40%\n",
      "Umidade     : 58%\n",
      "Vento       : 16.7 km/h\n",
      "____________________________________________________________\n",
      "Amanhã, Sexta-feira, 16/02/2024\n",
      "Temperatura : ⬇️ 22.8ºC ⬆️ 31.1ºC\n",
      "Clima       : Predominantemente nublado, com tempestades\n",
      "Chuva       : 44%\n",
      "Umidade     : 70%\n",
      "Vento       : 13.0 km/h\n",
      "____________________________________________________________\n",
      "Sábado, 17/02/2024\n",
      "Temperatura : ⬇️ 21.7ºC ⬆️ 29.9ºC\n",
      "Clima       : Parcialmente nublado, com tempestades\n",
      "Chuva       : 55%\n",
      "Umidade     : 77%\n",
      "Vento       : 13.0 km/h\n",
      "____________________________________________________________\n",
      "Domingo, 18/02/2024\n",
      "Temperatura : ⬇️ 21.8ºC ⬆️ 27.5ºC\n",
      "Clima       : Tempestades\n",
      "Chuva       : 98%\n",
      "Umidade     : 82%\n",
      "Vento       : 13.0 km/h\n",
      "____________________________________________________________\n",
      "Segunda-feira, 19/02/2024\n",
      "Temperatura : ⬇️ 21.3ºC ⬆️ 29.6ºC\n",
      "Clima       : Nuvens esparsas\n",
      "Chuva       : 40%\n",
      "Umidade     : 67%\n",
      "Vento       : 14.8 km/h\n",
      "____________________________________________________________\n"
     ]
    }
   ],
   "source": [
    "print(funcoes.montar_previsoes_5Dias())"
   ]
  },
  {
   "cell_type": "markdown",
   "metadata": {},
   "source": [
    "## Exemplo - Falha na requisição para Web Service"
   ]
  },
  {
   "cell_type": "code",
   "execution_count": 2,
   "metadata": {},
   "outputs": [
    {
     "name": "stdout",
     "output_type": "stream",
     "text": [
      "Falha na requisição para obter código da localização. Erro: 401 Client Error: Unauthorized for url: http://dataservice.accuweather.com/locations/v1/cities/geoposition/search?apikey=%5BDigite+aqui+sua+API+Key%09do+AccuWeather%5D&q=-20.4428%2C-54.6464&language=pt-br&details=false\n",
      "Não foi possível obter as informações necessárias.\n",
      "None\n"
     ]
    }
   ],
   "source": [
    "print(funcoes.montar_previsoes_5Dias())"
   ]
  }
 ],
 "metadata": {
  "kernelspec": {
   "display_name": "Python 3",
   "language": "python",
   "name": "python3"
  },
  "language_info": {
   "codemirror_mode": {
    "name": "ipython",
    "version": 3
   },
   "file_extension": ".py",
   "mimetype": "text/x-python",
   "name": "python",
   "nbconvert_exporter": "python",
   "pygments_lexer": "ipython3",
   "version": "3.12.0"
  }
 },
 "nbformat": 4,
 "nbformat_minor": 2
}
